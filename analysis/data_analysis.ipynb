{
 "cells": [
  {
   "cell_type": "markdown",
   "metadata": {
    "application/vnd.databricks.v1+cell": {
     "cellMetadata": {
      "byteLimit": 2048000,
      "rowLimit": 10000
     },
     "inputWidgets": {},
     "nuid": "bfc82ce9-03e0-487a-8bba-64c767a99459",
     "showTitle": false,
     "tableResultSettingsMap": {},
     "title": ""
    }
   },
   "source": [
    "Flash Technical Case Analysis: Mastercard Reporting (QMR) - Active Card Follow-Up Quarterly\n",
    "--\n",
    "In this notebook I intend use the queries built with SQL for details analysis, generating insights and recomentations."
   ]
  },
  {
   "cell_type": "code",
   "execution_count": 0,
   "metadata": {
    "application/vnd.databricks.v1+cell": {
     "cellMetadata": {
      "byteLimit": 2048000,
      "rowLimit": 10000
     },
     "inputWidgets": {},
     "nuid": "27e4f7dc-e0d7-48ea-9380-f5f5ba99808a",
     "showTitle": true,
     "tableResultSettingsMap": {},
     "title": "Set up"
    }
   },
   "outputs": [],
   "source": [
    "import matplotlib.pyplot as plt\n",
    "import matplotlib.ticker as mtick # Important for formatting the percentage axis\n",
    "\n",
    "def chart_barv(x_data, y_bar_data, title_name, y_bar_label = \"\", x_label = \"\", bar_color='#986A71'):\n",
    "    \"\"\"\n",
    "    Plots a bar chart\n",
    "\n",
    "    Args:\n",
    "        x_data (pd.Series): Series for the x-axis (datetime objects).\n",
    "        y_bar_data (pd.Series): Series for the bar chart data (absolute values).\n",
    "        title_name (str): The chart's title.\n",
    "        y_bar_label (str): The label for the primary y-axis (bars).\n",
    "        x_label (str): The label for the x-axis.\n",
    "        bar_color (str): Color for the bars.\n",
    "    \"\"\"\n",
    "    fig, ax = plt.subplots(figsize=(12, 6))\n",
    "\n",
    "    # Bar Chart\n",
    "    vbars = ax.bar(x_data, y_bar_data, color=bar_color)\n",
    "    ax.set_ylabel(y_bar_label, fontsize=12)\n",
    "    #ax.tick_params(axis='y')\n",
    "    ax.set_title(title_name, fontsize=14, pad=20)\n",
    "\n",
    "    # data rotule\n",
    "    ax.bar_label(vbars, fmt='{:,.0f}', padding=3)\n",
    "                 \n",
    "    # border\n",
    "    ax.spines['top'].set_color('lightgray')       \n",
    "    ax.spines['right'].set_color('lightgray')     \n",
    "    ax.spines['bottom'].set_color('lightgray')    \n",
    "    ax.spines['left'].set_color('lightgray') \n",
    "\n",
    "    # Adjust layout to make sure nothing is clipped\n",
    "    fig.tight_layout()\n",
    "    plt.show()"
   ]
  },
  {
   "cell_type": "code",
   "execution_count": 0,
   "metadata": {
    "application/vnd.databricks.v1+cell": {
     "cellMetadata": {
      "byteLimit": 2048000,
      "rowLimit": 10000
     },
     "inputWidgets": {},
     "nuid": "517c3fd5-92e9-4148-93ad-feaadcf71990",
     "showTitle": true,
     "tableResultSettingsMap": {},
     "title": "Function import query"
    }
   },
   "outputs": [],
   "source": [
    "def import_query(path):\n",
    "        with open(path, \"r\") as openFile:\n",
    "            query = openFile.read()\n",
    "            df = spark.sql(query)\n",
    "            return df"
   ]
  },
  {
   "cell_type": "code",
   "execution_count": 0,
   "metadata": {
    "application/vnd.databricks.v1+cell": {
     "cellMetadata": {
      "byteLimit": 2048000,
      "rowLimit": 10000
     },
     "inputWidgets": {},
     "nuid": "4f4bd469-86a0-4fff-86b2-a55e54fd8841",
     "showTitle": true,
     "tableResultSettingsMap": {},
     "title": "Quarter Summary"
    }
   },
   "outputs": [],
   "source": [
    "df_quarter_result = import_query(\"quarter_results.sql\")\n",
    "display(df_quarter_result)"
   ]
  },
  {
   "cell_type": "markdown",
   "metadata": {
    "application/vnd.databricks.v1+cell": {
     "cellMetadata": {
      "byteLimit": 2048000,
      "rowLimit": 10000
     },
     "inputWidgets": {},
     "nuid": "611e49d1-8125-48d3-b7cf-fe6b81c588a7",
     "showTitle": false,
     "tableResultSettingsMap": {},
     "title": ""
    }
   },
   "source": [
    "It is possible to see that there is a trend in growth KPIs, below we will analyze it in more detail."
   ]
  },
  {
   "cell_type": "markdown",
   "metadata": {
    "application/vnd.databricks.v1+cell": {
     "cellMetadata": {
      "byteLimit": 2048000,
      "rowLimit": 10000
     },
     "inputWidgets": {},
     "nuid": "30db8c84-01f6-431b-a233-f5c94e70c45f",
     "showTitle": false,
     "tableResultSettingsMap": {},
     "title": ""
    }
   },
   "source": [
    "### 1. Overall Card Growth"
   ]
  },
  {
   "cell_type": "code",
   "execution_count": 0,
   "metadata": {
    "application/vnd.databricks.v1+cell": {
     "cellMetadata": {
      "byteLimit": 2048000,
      "rowLimit": 10000
     },
     "inputWidgets": {},
     "nuid": "66a88213-bd7f-44a7-988d-11ae0bc7896c",
     "showTitle": true,
     "tableResultSettingsMap": {},
     "title": "Total Cards at End Quarter"
    }
   },
   "outputs": [],
   "source": [
    "# 1. Generating df in pandas\n",
    "dfp_quarter_result = df_quarter_result.toPandas()\n",
    "dfp_quarter_result = dfp_quarter_result.sort_values(by='quarter_start_date')\n",
    "\n",
    "# Extract columns into variables for clarity\n",
    "x_values = dfp_quarter_result['quarter']\n",
    "y_bar_values = dfp_quarter_result['qty_cards_end_quarter_total']\n",
    "# 2. Ploting chart\n",
    "chart_barv(\n",
    "    x_data=x_values,\n",
    "    y_bar_data=y_bar_values,\n",
    "    title_name=\"Total Cards and Quarter-over-Quarter\"\n",
    ")"
   ]
  },
  {
   "cell_type": "markdown",
   "metadata": {
    "application/vnd.databricks.v1+cell": {
     "cellMetadata": {},
     "inputWidgets": {},
     "nuid": "b8e720be-7a53-416a-9923-2f87a720ff3c",
     "showTitle": false,
     "tableResultSettingsMap": {},
     "title": ""
    }
   },
   "source": [
    "(+) High Growth KPIs\n",
    "\n",
    "(+) Variation of Cards Temporarily Blocked Increased (Q2 to Q3 is smaller than Q1 to Q2)\n",
    "\n",
    "(-) Cards Terminated During Quarter with Growing High"
   ]
  },
  {
   "cell_type": "markdown",
   "metadata": {
    "application/vnd.databricks.v1+cell": {
     "cellMetadata": {
      "byteLimit": 2048000,
      "rowLimit": 10000
     },
     "inputWidgets": {},
     "nuid": "d94ae00c-40e5-4433-a82f-228c2b0eecd0",
     "showTitle": false,
     "tableResultSettingsMap": {},
     "title": ""
    }
   },
   "source": [
    "#### 1.1 Temporarily Blocked Analysis"
   ]
  },
  {
   "cell_type": "code",
   "execution_count": 0,
   "metadata": {
    "application/vnd.databricks.v1+cell": {
     "cellMetadata": {
      "byteLimit": 2048000,
      "rowLimit": 10000
     },
     "inputWidgets": {},
     "nuid": "549dc26a-5038-465d-96f9-8f604557b42d",
     "showTitle": true,
     "tableResultSettingsMap": {},
     "title": "View"
    }
   },
   "outputs": [],
   "source": [
    "df_quarter_result_tb = import_query(\"temporarily_blocked.sql\")\n",
    "display(df_quarter_result_tb )"
   ]
  },
  {
   "cell_type": "code",
   "execution_count": 0,
   "metadata": {
    "application/vnd.databricks.v1+cell": {
     "cellMetadata": {
      "byteLimit": 2048000,
      "rowLimit": 10000
     },
     "inputWidgets": {},
     "nuid": "58683117-aab0-407a-ae91-0312c39c5d44",
     "showTitle": true,
     "tableResultSettingsMap": {},
     "title": "Generating chart about"
    }
   },
   "outputs": [],
   "source": [
    "# 1. Generating df in pandas\n",
    "dfp_quarter_result_tb = df_quarter_result_tb.toPandas()\n",
    "dfp_quarter_result_tb = dfp_quarter_result_tb .sort_values(by='quarter_start_date')\n",
    "\n",
    "# Extract columns into variables for clarity\n",
    "x_values = dfp_quarter_result_tb['quarter']\n",
    "y_bar_values = dfp_quarter_result_tb['temp_blocked_not_reins_purged']\n",
    "# 2. Ploting chart\n",
    "chart_barv(\n",
    "    x_data=x_values,\n",
    "    y_bar_data=y_bar_values,\n",
    "    title_name=\"Total Cards Temporarily Blocked\",\n",
    "    bar_color='#F3ABB3'\n",
    ")"
   ]
  },
  {
   "cell_type": "markdown",
   "metadata": {
    "application/vnd.databricks.v1+cell": {
     "cellMetadata": {},
     "inputWidgets": {},
     "nuid": "41f8dad3-5f5c-41b2-b46e-fa99e8e18d25",
     "showTitle": false,
     "tableResultSettingsMap": {},
     "title": ""
    }
   },
   "source": [
    "### 2. Card Model Analysis"
   ]
  },
  {
   "cell_type": "markdown",
   "metadata": {
    "application/vnd.databricks.v1+cell": {
     "cellMetadata": {},
     "inputWidgets": {},
     "nuid": "a6398326-6fbd-4f7f-aee6-648281788057",
     "showTitle": false,
     "tableResultSettingsMap": {},
     "title": ""
    }
   },
   "source": [
    "#### 2.1 Implementation Contactless Cards"
   ]
  },
  {
   "cell_type": "code",
   "execution_count": 0,
   "metadata": {
    "application/vnd.databricks.v1+cell": {
     "cellMetadata": {
      "byteLimit": 2048000,
      "rowLimit": 10000
     },
     "inputWidgets": {},
     "nuid": "b17e1284-1385-455b-91b3-dfa762126282",
     "showTitle": true,
     "tableResultSettingsMap": {},
     "title": "Summary card model"
    }
   },
   "outputs": [],
   "source": [
    "df_model = import_query(\"analysis_model.sql\")\n",
    "display(df_model)"
   ]
  },
  {
   "cell_type": "code",
   "execution_count": 0,
   "metadata": {
    "application/vnd.databricks.v1+cell": {
     "cellMetadata": {
      "byteLimit": 2048000,
      "rowLimit": 10000
     },
     "inputWidgets": {},
     "nuid": "e2699236-a0fa-4576-8a5e-50626d1abfc7",
     "showTitle": true,
     "tableResultSettingsMap": {},
     "title": "Generating charts"
    }
   },
   "outputs": [],
   "source": [
    "import numpy as np\n",
    "\n",
    "pdf_model = df_model.toPandas()\n",
    "df_pivot = pdf_model.pivot(index=\"quarter\", columns=\"card_model\", values=\"qty_cards_end_quarter\")\n",
    "\n",
    "color_map = {\n",
    "    'CONTACTLESS': '#F3ABB3',\n",
    "    'PIN': '#986A71'\n",
    "}\n",
    "\n",
    "# Creating stacked chart\n",
    "fig, ax = plt.subplots(figsize=(10, 6))\n",
    "\n",
    "# Initialize the 'bottom' for each bar\n",
    "bottom = np.zeros(len(df_pivot))\n",
    "\n",
    "# Iterate over each card model (the columns of our df_pivot)\n",
    "for model in df_pivot.columns:\n",
    "    # Plot the bar for the current model, on top of the previous bars ('bottom')\n",
    "    ax.bar(df_pivot.index, df_pivot[model], bottom=bottom, label=model, color=color_map.get(model))\n",
    "    # Update the 'bottom' for the next iteration\n",
    "    bottom += df_pivot[model]\n",
    "\n",
    "# Customization and Chart Labels\n",
    "ax.set_title(\"Card Base Evolution by Model\")\n",
    "ax.legend(title=\"Card Model\", bbox_to_anchor=(1.05, 1), loc='upper left')\n",
    "\n",
    "# Add labels with the total value and % contactless over PIN on top of each bar\n",
    "for i, total in enumerate(bottom):\n",
    "    contactless = df_pivot['CONTACTLESS'].iloc[i] if 'CONTACTLESS' in df_pivot.columns else 0\n",
    "    pin = df_pivot['PIN'].iloc[i] if 'PIN' in df_pivot.columns else 0\n",
    "    percentage = (contactless / (contactless + pin) * 100) if pin != 0 else 0\n",
    "    ax.text(i, total + 5000, f'{int(total):,}\\n{percentage:.2f}%', ha='center') # +5000 to give some space\n",
    "\n",
    "# Border\n",
    "ax.spines['top'].set_color('lightgray')       \n",
    "ax.spines['right'].set_color('lightgray')     \n",
    "ax.spines['bottom'].set_color('lightgray')    \n",
    "ax.spines['left'].set_color('lightgray') \n",
    "\n",
    "plt.tight_layout() # Adjust the layout to prevent the legend from being cut off\n",
    "plt.show()"
   ]
  },
  {
   "cell_type": "markdown",
   "metadata": {
    "application/vnd.databricks.v1+cell": {
     "cellMetadata": {},
     "inputWidgets": {},
     "nuid": "a212cae5-5518-4443-9994-07076da9774b",
     "showTitle": false,
     "tableResultSettingsMap": {},
     "title": ""
    }
   },
   "source": [
    "#### 2.2 Card Analysis of Type: PIN Validity in Each Quarter"
   ]
  },
  {
   "cell_type": "code",
   "execution_count": 0,
   "metadata": {
    "application/vnd.databricks.v1+cell": {
     "cellMetadata": {
      "byteLimit": 2048000,
      "rowLimit": 10000
     },
     "inputWidgets": {},
     "nuid": "20173a8e-6e39-49bf-9f0f-d5be2018d7ff",
     "showTitle": true,
     "tableResultSettingsMap": {},
     "title": "Initial view about card type"
    }
   },
   "outputs": [],
   "source": [
    "df_card = import_query(\"analysis_card_validity.sql\")\n",
    "display(df_card)"
   ]
  },
  {
   "cell_type": "code",
   "execution_count": 0,
   "metadata": {
    "application/vnd.databricks.v1+cell": {
     "cellMetadata": {
      "byteLimit": 2048000,
      "rowLimit": 10000
     },
     "inputWidgets": {},
     "nuid": "9c362ee0-7a04-4e15-86f6-bbeee61b2371",
     "showTitle": true,
     "tableResultSettingsMap": {},
     "title": "Generating charts"
    }
   },
   "outputs": [],
   "source": [
    "# 1. Generating pandas DataFrame\n",
    "dfp_card = df_card.toPandas()\n",
    "dfp_card = dfp_card.sort_values(by='quarter_start_date')\n",
    "\n",
    "# Check the column names\n",
    "print(dfp_card.columns)\n",
    "\n",
    "# Extract columns into variables for clarity\n",
    "x_values = dfp_card['quarter']\n",
    "y_bar_values = dfp_card['qty_cards_end_quarter']\n",
    "\n",
    "# 2. Plotting chart\n",
    "chart_barv(\n",
    "    x_data=x_values,\n",
    "    y_bar_data=y_bar_values,\n",
    "    title_name=\"Quarterly evolution of the total number of cards expiring in each quarter of the PIN type\"\n",
    ")"
   ]
  }
 ],
 "metadata": {
  "application/vnd.databricks.v1+notebook": {
   "computePreferences": null,
   "dashboards": [],
   "environmentMetadata": {
    "base_environment": "",
    "environment_version": "2"
   },
   "inputWidgetPreferences": null,
   "language": "python",
   "notebookMetadata": {
    "pythonIndentUnit": 4
   },
   "notebookName": "data_analysis",
   "widgets": {}
  },
  "language_info": {
   "name": "python"
  }
 },
 "nbformat": 4,
 "nbformat_minor": 0
}
